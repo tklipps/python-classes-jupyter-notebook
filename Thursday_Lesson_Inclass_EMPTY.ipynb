{
 "cells": [
  {
   "cell_type": "markdown",
   "metadata": {},
   "source": [
    "# Object-Oriented-Programming (OOP)"
   ]
  },
  {
   "cell_type": "markdown",
   "metadata": {},
   "source": [
    "## Tasks Today:\n",
    "\n",
    "   \n",
    "\n",
    "1) <b>Creating a Class (Initializing/Declaring)</b> <br>\n",
    "2) <b>Using a Class (Instantiating)</b> <br>\n",
    " &nbsp;&nbsp;&nbsp;&nbsp; a) Creating One Instance <br>\n",
    " &nbsp;&nbsp;&nbsp;&nbsp; b) Creating Multiple Instances <br>\n",
    " &nbsp;&nbsp;&nbsp;&nbsp; c) In-Class Exercise #1 - Create a Class 'Car' and instantiate three different makes of cars <br>\n",
    "3) <b>The \\__init\\__() Method</b> <br>\n",
    " &nbsp;&nbsp;&nbsp;&nbsp; a) The 'self' Attribute <br>\n",
    "4) <b>Class Attributes</b> <br>\n",
    " &nbsp;&nbsp;&nbsp;&nbsp; a) Initializing Attributes <br>\n",
    " &nbsp;&nbsp;&nbsp;&nbsp; b) Setting an Attribute Outside of the \\__init\\__() Method <br>\n",
    " &nbsp;&nbsp;&nbsp;&nbsp; c) Setting Defaults for Attributes <br>\n",
    " &nbsp;&nbsp;&nbsp;&nbsp; d) Accessing Class Attributes <br>\n",
    " &nbsp;&nbsp;&nbsp;&nbsp; e) Changing Class Attributes <br>\n",
    " &nbsp;&nbsp;&nbsp;&nbsp; f) In-Class Exercise #2 - Add a color and wheels attribute to your 'Car' class <br>\n",
    "5) <b>Class Methods</b> <br>\n",
    " &nbsp;&nbsp;&nbsp;&nbsp; a) Creating <br>\n",
    " &nbsp;&nbsp;&nbsp;&nbsp; b) Calling <br>\n",
    " &nbsp;&nbsp;&nbsp;&nbsp; c) Modifying an Attribute's Value Through a Method <br>\n",
    " &nbsp;&nbsp;&nbsp;&nbsp; d) Incrementing an Attribute's Value Through a Method <br>\n",
    " &nbsp;&nbsp;&nbsp;&nbsp; e) In-Class Exercise #3 - Add a method that prints the cars color and wheel number, then call them <br>\n",
    "6) <b>Inheritance</b> <br>\n",
    " &nbsp;&nbsp;&nbsp;&nbsp; a) Syntax for Inheriting from a Parent Class <br>\n",
    " &nbsp;&nbsp;&nbsp;&nbsp; b) The \\__init\\__() Method for a Child Class (super()) <br>\n",
    " &nbsp;&nbsp;&nbsp;&nbsp; c) Defining Attributes and Methods for the Child Class <br>\n",
    " &nbsp;&nbsp;&nbsp;&nbsp; d) Method Overriding <br>\n",
    " &nbsp;&nbsp;&nbsp;&nbsp; e) In-Class Exercise #4 - Create a class 'Ford' that inherits from 'Car' class and initialize it as a Blue Ford Explorer with 4 wheels using the super() method <br>\n",
    "7) <b>Classes as Attributes</b> <br>\n",
    "8) <b>Exercises</b> <br>\n",
    " &nbsp;&nbsp;&nbsp;&nbsp; a) Exercise #1 - Turn the shopping cart program from yesterday into an object-oriented program <br>"
   ]
  },
  {
   "cell_type": "code",
   "execution_count": null,
   "metadata": {},
   "outputs": [],
   "source": [
    "from IPython.display import clear_output\n",
    "###DO THIS MAKING A CLASS 'CART'\n",
    "###DRIVER CODE AT BOTTOM\n",
    "# Create a global list to hold my Cart Items\n",
    "cart = []\n",
    "\n",
    "\n",
    "def show_cart():\n",
    "    clear_output()\n",
    "    print(\"Your cart contains:\")\n",
    "    for item in cart:\n",
    "        print(item)\n",
    "    if not cart:\n",
    "        print(\"Cart is empty\")\n",
    "\n",
    "def add_item(item):\n",
    "    clear_output()\n",
    "    cart.append(item)\n",
    "    print(f\"{item} was added to your cart\")\n",
    "        \n",
    "def remove_item(itme):\n",
    "    clear_output()\n",
    "    cart.remove(item)\n",
    "    print(f\"{item} was removed from your cart\")\n",
    "        \n",
    "def clear_cart():\n",
    "    clear_output()\n",
    "    cart.clear()\n",
    "    print(\"Your cart is empty\")\n",
    "\n",
    "\n",
    "#Driver Code\n",
    "def shopping_cart():\n",
    "    while True:\n",
    "        response = input(\"What would you like to do? Quit/add/remove/show/clear \\n Choose only one \\n \")\n",
    "        if response.lower() == \"quit\":\n",
    "            show_cart()\n",
    "            print(\"Thanks for shopping!\")\n",
    "        elif response.lower() == \"add\":\n",
    "            item = input(\"What would you like to add?\")\n",
    "            add_item(item)\n",
    "        elif response.lower() == \"remove\":\n",
    "            item = input(\"What would you like to remove?\")\n",
    "            remove_item(item)\n",
    "        elif response.lower() == \"show\":\n",
    "            show_cart()\n",
    "        elif response.lower() == \"clear\":\n",
    "            clear_cart()\n",
    "        else:\n",
    "            print(\"Invalid Option. Try again!\")\n",
    "        \n",
    "shopping_cart()"
   ]
  },
  {
   "cell_type": "code",
   "execution_count": null,
   "metadata": {},
   "outputs": [],
   "source": [
    "# Circumfrance of a cirle\n"
   ]
  },
  {
   "cell_type": "markdown",
   "metadata": {},
   "source": [
    "## Creating a Class (Initializing/Declaring)\n",
    "<p>When creating a class, function, or even a variable you are initializing that object. Initializing and Declaring occur at the same time in Python, whereas in lower level languages you have to declare an object before initializing it. This is the first step in the process of using a class.</p>"
   ]
  },
  {
   "cell_type": "code",
   "execution_count": null,
   "metadata": {},
   "outputs": [],
   "source": [
    "class Car(): #Note the CAPITAL C in Car #PascalCase first letter of every word is capital and no spaces\n",
    "    wheels = 4\n",
    "    color = \"blue\""
   ]
  },
  {
   "cell_type": "markdown",
   "metadata": {},
   "source": [
    "## Using a Class (Instantiating)\n",
    "<p>The process of creating a class is called <i>Instantiating</i>. Each time you create a variable of that type of class, it is referred to as an <i>Instance</i> of that class. This is the second step in the process of using a class.</p>"
   ]
  },
  {
   "cell_type": "markdown",
   "metadata": {},
   "source": [
    "##### Creating One Instance"
   ]
  },
  {
   "cell_type": "code",
   "execution_count": null,
   "metadata": {},
   "outputs": [],
   "source": [
    "ford = Car()"
   ]
  },
  {
   "cell_type": "markdown",
   "metadata": {},
   "source": [
    "##### Creating Multiple Instances"
   ]
  },
  {
   "cell_type": "code",
   "execution_count": null,
   "metadata": {},
   "outputs": [],
   "source": [
    "chevy = Car()\n",
    "honda = Car()\n",
    "porsche = Car()\n",
    "\n",
    "print(ford.wheels)\n",
    "print(chevy.wheels)\n",
    "print(honda.color)"
   ]
  },
  {
   "cell_type": "markdown",
   "metadata": {},
   "source": [
    "##### In-Class Exercise #1 - Create a Class 'Car' and Instantiate three different makes of cars"
   ]
  },
  {
   "cell_type": "code",
   "execution_count": null,
   "metadata": {},
   "outputs": [],
   "source": [
    "class Car2():\n",
    "    axel = 2\n",
    "    glass = \"tinted\"\n",
    "\n",
    "vw = Car2()\n",
    "tiguan = Car2()\n",
    "passat = Car2()\n",
    "golf = Car2()\n",
    "\n",
    "print(tiguan.glass)\n",
    "print(golf.axel)\n",
    "print(passat.glass)\n",
    "print(vw.axel)"
   ]
  },
  {
   "cell_type": "markdown",
   "metadata": {},
   "source": [
    "## The \\__init\\__() Method <br>\n",
    "<p>This method is used in almost every created class, and called only once upon the creation of the class instance. This method will initialize all variables needed for the object.</p>"
   ]
  },
  {
   "cell_type": "code",
   "execution_count": null,
   "metadata": {},
   "outputs": [],
   "source": [
    "class Car():\n",
    "    engine = \"4.7L\" # class attribute\n",
    "    \n",
    "    #Constructor\n",
    "    def __init__(self, num_of_wheels): # write self so that others reading code will understand\n",
    "        self.wheels = num_of_wheels #instance var - will give error if called on Class\n",
    "    \n",
    "ford = Car(4)\n",
    "ford.engine\n",
    "Car.engine\n",
    "print(ford.wheels) # has access to the Class and instance attributes/method"
   ]
  },
  {
   "cell_type": "markdown",
   "metadata": {},
   "source": [
    "##### The 'self' Attribute <br>\n",
    "<p>This attribute is required to keep track of specific instance's attributes. Without the self attribute, the program would not know how to reference or keep track of an instance's attributes.</p>"
   ]
  },
  {
   "cell_type": "code",
   "execution_count": null,
   "metadata": {},
   "outputs": [],
   "source": [
    "# see above"
   ]
  },
  {
   "cell_type": "markdown",
   "metadata": {},
   "source": [
    "## Class Attributes <br>\n",
    "<p>While variables are inside of a class, they are referred to as attributes and not variables. When someone says 'attribute' you know they're speaking about a class. Attributes can be initialized through the init method, or outside of it.</p>"
   ]
  },
  {
   "cell_type": "markdown",
   "metadata": {},
   "source": [
    "##### Initializing Attributes"
   ]
  },
  {
   "cell_type": "code",
   "execution_count": null,
   "metadata": {},
   "outputs": [],
   "source": [
    "# see above"
   ]
  },
  {
   "cell_type": "markdown",
   "metadata": {},
   "source": [
    "##### Accessing Class Attributes"
   ]
  },
  {
   "cell_type": "code",
   "execution_count": null,
   "metadata": {
    "scrolled": true
   },
   "outputs": [],
   "source": [
    "# See Above"
   ]
  },
  {
   "cell_type": "markdown",
   "metadata": {},
   "source": [
    "##### Setting Defaults for Attributes"
   ]
  },
  {
   "cell_type": "code",
   "execution_count": null,
   "metadata": {},
   "outputs": [],
   "source": [
    "class Car():\n",
    "    engine = \"4.7L\"\n",
    "    def __init__(self, wheels, color=\"Blue\"):\n",
    "        self.wheels = wheels\n",
    "        self.color = color\n",
    "        \n",
    "honda = Car(4)\n",
    "jeep = Car(8,\"Green\")\n",
    "\n",
    "print(f\"Honda has {honda.wheels} wheels and is {honda.color}\")\n",
    "print(f\"Jeep has {jeep.wheels} wheels and is {jeep.color}\")"
   ]
  },
  {
   "cell_type": "markdown",
   "metadata": {},
   "source": [
    "##### Changing Class Attributes <br>\n",
    "<p>Keep in mind there are global class attributes and then there are attributes only available to each class instance which won't effect other classes.</p>"
   ]
  },
  {
   "cell_type": "code",
   "execution_count": null,
   "metadata": {},
   "outputs": [],
   "source": [
    "Car.engine"
   ]
  },
  {
   "cell_type": "code",
   "execution_count": null,
   "metadata": {},
   "outputs": [],
   "source": [
    "Car.color"
   ]
  },
  {
   "cell_type": "markdown",
   "metadata": {},
   "source": [
    "##### In-Class Exercise #2 - Add a doors and seats attribute to your 'Car' class then print out two different instances with different doors and seats"
   ]
  },
  {
   "cell_type": "code",
   "execution_count": null,
   "metadata": {},
   "outputs": [],
   "source": [
    "class Car():\n",
    "    engine = \"4.7L\"\n",
    "    def __init__(self, d, s=2):\n",
    "        self.doors = d\n",
    "        self.seats = s\n",
    "        \n",
    "hrr = Car(4,4)\n",
    "tesla = Car(3)\n",
    "\n",
    "print(f\"HRR has {hrr.doors} doors and {hrr.seats} seats.\")\n",
    "print(f\"Tesla has {tesla.doors} doors and {tesla.seats} seats.\")"
   ]
  },
  {
   "cell_type": "markdown",
   "metadata": {},
   "source": [
    "## Class Methods <br>\n",
    "<p>While inside of a class, functions are referred to as 'methods'. If you hear someone mention methods, they're speaking about classes. Methods are essentially functions, but only callable on the instances of a class.</p>"
   ]
  },
  {
   "cell_type": "markdown",
   "metadata": {},
   "source": [
    "##### Creating"
   ]
  },
  {
   "cell_type": "code",
   "execution_count": null,
   "metadata": {},
   "outputs": [],
   "source": [
    "class Car():\n",
    "    def __init__(self ,wheels, color, seats):\n",
    "        self.wheels = wheels\n",
    "        self.color = color\n",
    "        self.seats = seats\n",
    "    \n",
    "    def drive(self):\n",
    "        print(\"VROOOOM!!!\")\n",
    "    def set_color(self, new_color):\n",
    "        self.color = new_color\n",
    "        \n",
    "    def describe(self):\n",
    "        print(f\"the car is {self.color} with {self.seats} seats and {self.wheels} wheels\")\n",
    "        \n",
    "    def add_seats(self):\n",
    "        self.seats += 1\n",
    "        "
   ]
  },
  {
   "cell_type": "markdown",
   "metadata": {},
   "source": [
    "##### Calling"
   ]
  },
  {
   "cell_type": "code",
   "execution_count": null,
   "metadata": {},
   "outputs": [],
   "source": [
    "chevy = Car(4, \"red\", 8)\n",
    "chevy.drive()\n",
    "chevy.describe()\n",
    "chevy.set_color(\"green\")\n",
    "chevy.describe()\n",
    "chevy.add_seats()\n",
    "chevy.describe()\n",
    "\n",
    "Car.describe(chevy)"
   ]
  },
  {
   "cell_type": "markdown",
   "metadata": {},
   "source": [
    "##### Modifying an Attribute's Value Through a Method"
   ]
  },
  {
   "cell_type": "code",
   "execution_count": null,
   "metadata": {},
   "outputs": [],
   "source": [
    "honda = Car(2, \"blue\", 2)\n",
    "honda.drive()\n",
    "honda.describe()"
   ]
  },
  {
   "cell_type": "markdown",
   "metadata": {},
   "source": [
    "##### Incrementing an Attribute's Value Through a Method"
   ]
  },
  {
   "cell_type": "code",
   "execution_count": null,
   "metadata": {},
   "outputs": [],
   "source": []
  },
  {
   "cell_type": "markdown",
   "metadata": {},
   "source": [
    "##### In-Class Exercise #3 - Add a method that takes in three parameters of year, doors and seats and prints out a formatted print statement with make, model, year, seats, and doors"
   ]
  },
  {
   "cell_type": "code",
   "execution_count": null,
   "metadata": {},
   "outputs": [],
   "source": [
    "# Create class with 2 paramters inside of the __init__ which are make and model\n",
    "\n",
    "# Inside of the Car class create a method that has 4 parameter in total (self,year,door,seats)\n",
    "\n",
    "# Output: This car is from 2019 and is a Ford Expolorer and has 4 doors and 5 seats\n",
    "\n",
    "class Car():\n",
    "    def __init__(self, make, model):\n",
    "        self.make = make\n",
    "        self.model = model\n",
    "        self.year = 0\n",
    "        \n",
    "    def add_details(self, year, doors, s):\n",
    "        self.year = year\n",
    "        self.doors = doors\n",
    "        self.seats = s\n",
    "        \n",
    "    def describe(self):\n",
    "        print(f\"This car is a {self.year} {self.make} {self.model} and has {self.doors} doors \\\n",
    "and {self.seats} seats.\")\n",
    "        \n",
    "    def which_is_better(self,car):\n",
    "        if self.doors > car.doors:\n",
    "            print(f\"{self.make} {self.model} is better than {car.make} {car.model}.\")\n",
    "        else:\n",
    "            print(f\"{self.make} {self.model} is worse than {car.make} {car.model}.\")\n",
    "\n",
    "my_car = Car(\"Toyota\",\"Tundra\")\n",
    "my_car.add_details(2000, 4, 6)\n",
    "my_car.describe()\n",
    "\n",
    "your_car = Car(\"Ford\",\"Explorer\")\n",
    "your_car.add_details(2018,6,8)\n",
    "your_car.describe()\n",
    "\n",
    "my_car.which_is_better(your_car)\n",
    "your_car.which_is_better(my_car)"
   ]
  },
  {
   "cell_type": "code",
   "execution_count": null,
   "metadata": {},
   "outputs": [],
   "source": [
    "class Car():\n",
    "    def __init__(self, make, model):\n",
    "        self.make = make\n",
    "        self.model = model\n",
    "        self.year = 0\n",
    "        \n",
    "    def add_details(self, year, doors, s):\n",
    "        self.year = year\n",
    "        self.doors = doors\n",
    "        self.seats = s\n",
    "        \n",
    "    def describe(self):\n",
    "        print(f\"This car is a {self.year} {self.make} {self.model} and has {self.doors} doors \\\n",
    "and {self.seats} seats.\")\n",
    "        \n",
    "    @classmethod\n",
    "    def which_is_better(cls,car1,car2): #Class Method\n",
    "        if car1.doors > car2.doors:\n",
    "            print(f\"{car1.make} {car1.model} is better than {car2.make} {car2.model}.\")\n",
    "        else:\n",
    "            print(f\"{car1.make} {car1.model} is worse than {car2.make} {car2.model}.\")\n",
    "\n",
    "my_car = Car(\"Toyota\",\"Tundra\")\n",
    "my_car.add_details(2000, 4, 6)\n",
    "my_car.describe()\n",
    "\n",
    "your_car = Car(\"Ford\",\"Explorer\")\n",
    "your_car.add_details(2018,6,8)\n",
    "your_car.describe()\n",
    "\n",
    "Car.which_is_better(your_car,my_car)\n",
    "Car.which_is_better(my_car,your_car)\n",
    "\n",
    "my_car.which_is_better(my_car,your_car)"
   ]
  },
  {
   "cell_type": "markdown",
   "metadata": {},
   "source": [
    "## Inheritance <br>\n",
    "<p>You can create a child-parent relationship between two classes by using inheritance. What this allows you to do is have overriding methods, but also inherit traits from the parent class. Think of it as an actual parent and child, the child will inherit the parent's genes, as will the classes in OOP</p>"
   ]
  },
  {
   "cell_type": "markdown",
   "metadata": {},
   "source": [
    "##### Syntax for Inheriting from a Parent Class"
   ]
  },
  {
   "cell_type": "code",
   "execution_count": null,
   "metadata": {},
   "outputs": [],
   "source": [
    "# parent (super) class\n",
    "class Animal():\n",
    "    acc = 9.8\n",
    "    def __init__(self, name, species, legs=4):\n",
    "        self.name = name\n",
    "        self.species = species\n",
    "        self.legs = legs\n",
    "    \n",
    "    def speak(self):\n",
    "        print(\"Some Generic Animal Sound\")\n",
    "    \n",
    "    def run(self):\n",
    "        print(\"galloping\")\n",
    "# Child Class\n",
    "class Dog(Animal):\n",
    "    speed = 15\n",
    "    \n",
    "    def __init__(self, is_house_trained, name, species, legs=4):\n",
    "        super().__init__(name, species, legs)\n",
    "        self.is_house_trained = is_house_trained\n",
    "    \n",
    "    def describe(self):\n",
    "        print(f\"The dog has {self.speed} mph and {self.acc} m/s^2\")\n",
    "    # Over ride the Parent Method\n",
    "    def speak(self):\n",
    "        print(\"BAARK!!!\")\n",
    "        \n",
    "generic_animal = Animal(\"generic\",\"animal\")\n",
    "generic_animal.legs\n",
    "\n",
    "lassie = Dog(True,\"Lassie\",\"Dog\")\n",
    "lassie.describe()\n",
    "lassie.speak()\n",
    "lassie.species\n",
    "lassie.is_house_trained"
   ]
  },
  {
   "cell_type": "markdown",
   "metadata": {},
   "source": [
    "##### The \\__init\\__() Method for a Child Class - super()"
   ]
  },
  {
   "cell_type": "code",
   "execution_count": null,
   "metadata": {
    "scrolled": true
   },
   "outputs": [],
   "source": [
    "# Grandchild of Animal and Child of Dog\n",
    "\n",
    "class Mutt(Dog):\n",
    "    def __init__(self,second_species, is_house_trained, name, species, leg=4):\n",
    "        super().__init__(is_house_trained, name, species, legs)\n",
    "        self.second_species = second_species\n",
    "        \n",
    "    def described(self):\n",
    "        print(f\"the mutt is a mix of {self.species} and {self.second_species}\")\n",
    "        \n",
    "nala = Mutt(\"pointer, True, \"nala\", \"Black Lab\")\n",
    "nala.describe()"
   ]
  },
  {
   "cell_type": "markdown",
   "metadata": {},
   "source": [
    "##### Defining Attributes and Methods for the Child Class"
   ]
  },
  {
   "cell_type": "code",
   "execution_count": null,
   "metadata": {},
   "outputs": [],
   "source": [
    "# See Above"
   ]
  },
  {
   "cell_type": "markdown",
   "metadata": {},
   "source": [
    "##### Method Overriding"
   ]
  },
  {
   "cell_type": "code",
   "execution_count": null,
   "metadata": {},
   "outputs": [],
   "source": [
    "# See Above"
   ]
  },
  {
   "cell_type": "markdown",
   "metadata": {},
   "source": [
    "## Classes as Attributes <br>\n",
    "<p>Classes can also be used as attributes within another class. This is useful in situations where you need to keep variables locally stored, instead of globally stored.</p>"
   ]
  },
  {
   "cell_type": "code",
   "execution_count": null,
   "metadata": {},
   "outputs": [],
   "source": [
    "class ElectricCar():\n",
    "    def __init__(self, year, make, a_battery):\n",
    "        self.year = year\n",
    "        self.make = make\n",
    "        self.battery = a_battery\n",
    "        \n",
    "    def describe(self):\n",
    "        print(self.year, self.make, self.battery.volts, self.battery.cells)\n",
    "        \n",
    "class Battery():\n",
    "    volts = 7.8\n",
    "    def __init__(self, cells):\n",
    "        self.cells = cells\n",
    "        self.time = 6\n",
    "        self.var = \"my battery\"\n",
    "        \n",
    "    def recharge(self):\n",
    "        print(\"recharging\")\n",
    "\n",
    "my_battery = Battery(20)        \n",
    "my_car = ElectricCar(2020, \"Tesla\", my_battery)\n",
    "my_car.describe()\n",
    "my_battery.recharge()\n",
    "my_battery.volts"
   ]
  },
  {
   "cell_type": "code",
   "execution_count": null,
   "metadata": {},
   "outputs": [],
   "source": [
    "class UI():\n",
    "    def __init__(self, person):\n",
    "        self.person = person\n",
    "        \n",
    "    def run_program(self):\n",
    "        while True:\n",
    "            response = input(\"What do you wnat to do? Run or Rant? \")\n",
    "            \n",
    "            if response.lower() == \"quit\":\n",
    "                break\n",
    "            \n",
    "            elif response.lower() == \"run\":\n",
    "                self.person.rant()\n",
    "                \n",
    "            elif response.lower() == \"rant\":\n",
    "                self.person.rant()\n",
    "            \n",
    "    \n",
    "class Person():\n",
    "    def __init__(self, name, age):\n",
    "        self.name = name\n",
    "        self.age = age\n",
    "        \n",
    "    def run(self):\n",
    "        print(f\"{self.name} says, Huff and puff - boy I am out of shape!\")\n",
    "        \n",
    "    def rant(self):\n",
    "        print(f\"{self.name.upper()} says, Epstien didn't kill himself!\")\n",
    "        \n",
    "tate = Person(\"Tate\",5)\n",
    "ui = UI(tate)\n",
    "ui.run_program()"
   ]
  },
  {
   "cell_type": "markdown",
   "metadata": {},
   "source": [
    "# Exercises"
   ]
  },
  {
   "cell_type": "markdown",
   "metadata": {},
   "source": [
    "### Exercise 1 - Turn the shopping cart program from yesterday into an object-oriented program"
   ]
  },
  {
   "cell_type": "code",
   "execution_count": null,
   "metadata": {},
   "outputs": [],
   "source": [
    "# Create a class called cart that retains items and has methods to add, remove, and show\n",
    "\n",
    "class Cart():\n",
    "    def __init__(self, cart = []):\n",
    "        self.cart = cart\n",
    "\n",
    "    def show_cart(self):\n",
    "        for item in self.cart:\n",
    "            print(f\"Your cart contains: {item}\")\n",
    "        if not self.cart:\n",
    "            print(\"Cart is empty\")\n",
    "\n",
    "    def add_item(self, item):\n",
    "        self.cart.append(item)\n",
    "        print(f\"{item} was added to your cart\")\n",
    "\n",
    "    def remove_item(self, item):\n",
    "        self.cart.remove(item)\n",
    "        print(f\"{item} was removed from your cart\")\n",
    "\n",
    "    def clear_cart(self):\n",
    "        self.cart.clear()\n",
    "        print(\"Your cart is now empty.\")\n",
    "\n",
    "\n",
    "    #Driver Code\n",
    "    def shopping_cart(self):\n",
    "        while True:\n",
    "            response = input(\"What would you like to do? Quit/add/remove/show/clear \\n Choose only one \\n \")\n",
    "            if response.lower() == \"quit\":\n",
    "                self.show_cart()\n",
    "                print(\"Thanks for shopping!\")\n",
    "            elif response.lower() == \"add\":\n",
    "                item = input(\"What would you like to add?\")\n",
    "                self.add_item(item)\n",
    "            elif response.lower() == \"remove\":\n",
    "                item = input(\"What would you like to remove?\")\n",
    "                self.remove_item(item)\n",
    "            elif response.lower() == \"show\":\n",
    "                self.show_cart()\n",
    "            elif response.lower() == \"clear\":\n",
    "                self.clear_cart()\n",
    "            else:\n",
    "                print(\"Invalid Option. Try again!\")\n",
    "\n",
    "def run_cart():\n",
    "    tim = Cart()\n",
    "    tim.shopping_cart()                \n",
    "\n",
    "run_cart()    "
   ]
  },
  {
   "cell_type": "markdown",
   "metadata": {},
   "source": [
    "### Exercise 2 - Write a Python class which has two methods get_String and print_String. get_String accept a string from the user and print_String print the string in upper case"
   ]
  },
  {
   "cell_type": "code",
   "execution_count": 1,
   "metadata": {},
   "outputs": [
    {
     "name": "stdout",
     "output_type": "stream",
     "text": [
      "What is your word?kjhsfd\n",
      "Your word is KJHSFD!\n"
     ]
    }
   ],
   "source": [
    "class String():\n",
    "    def __init__(self, string=[]):\n",
    "        self.string = string\n",
    "        \n",
    "    def get_String(self):\n",
    "        i = input(\"What is your word?\")\n",
    "        self.string.append(i)\n",
    "        \n",
    "    \n",
    "    def print_String(self):\n",
    "        for j in self.string:\n",
    "            print(f\"Your word is {j.upper()}!\")\n",
    " \n",
    "def run_string():\n",
    "    guitar = String()\n",
    "    guitar.get_String()\n",
    "    guitar.print_String()\n",
    "    \n",
    "run_string()"
   ]
  }
 ],
 "metadata": {
  "kernelspec": {
   "display_name": "Python 3",
   "language": "python",
   "name": "python3"
  },
  "language_info": {
   "codemirror_mode": {
    "name": "ipython",
    "version": 3
   },
   "file_extension": ".py",
   "mimetype": "text/x-python",
   "name": "python",
   "nbconvert_exporter": "python",
   "pygments_lexer": "ipython3",
   "version": "3.8.8"
  }
 },
 "nbformat": 4,
 "nbformat_minor": 2
}
